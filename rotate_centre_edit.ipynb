{
  "nbformat": 4,
  "nbformat_minor": 0,
  "metadata": {
    "colab": {
      "name": "rotation_and_centering.ipynb",
      "provenance": [],
      "collapsed_sections": []
    },
    "kernelspec": {
      "name": "python3",
      "display_name": "Python 3"
    },
    "language_info": {
      "name": "python"
    }
  },
  "cells": [
    {
      "cell_type": "code",
      "metadata": {
        "colab": {
          "base_uri": "https://localhost:8080/",
          "height": 35
        },
        "id": "pAJVRJA1eAWL",
        "outputId": "54927cae-87ca-4591-840a-e527f3dd5e2e"
      },
      "source": [
        "pwd"
      ],
      "execution_count": null,
      "outputs": [
        {
          "output_type": "execute_result",
          "data": {
            "application/vnd.google.colaboratory.intrinsic+json": {
              "type": "string"
            },
            "text/plain": [
              "'/content'"
            ]
          },
          "metadata": {},
          "execution_count": 1
        }
      ]
    },
    {
      "cell_type": "code",
      "metadata": {
        "id": "-njLuI_iDgg7"
      },
      "source": [
        "import numpy as np\n",
        "import math"
      ],
      "execution_count": null,
      "outputs": []
    },
    {
      "cell_type": "markdown",
      "metadata": {
        "id": "-d2dTQfVg-QL"
      },
      "source": [
        "Centering and Rotation"
      ]
    },
    {
      "cell_type": "code",
      "metadata": {
        "id": "aI5hEUlRDjpj"
      },
      "source": [
        "#translate points\n",
        "def transferXYZ(npCloud, matrixMoveToCentroid):\n",
        "    return np.dot(npCloud,matrixMoveToCentroid) \n"
      ],
      "execution_count": null,
      "outputs": []
    },
    {
      "cell_type": "code",
      "metadata": {
        "id": "69rc4sDODjsW"
      },
      "source": [
        "def zeroMeanCloud(pt_cloud):\n",
        "    npCloud = np.asarray(pt_cloud)\n",
        "    centroid=np.average(npCloud,axis=0)\n",
        "    matrixMoveToCentroid=np.identity(4)\n",
        "    matrixMoveToCentroid[0:3,3]=-centroid[0:3] #create transform matrix\n",
        "    matrixMoveToCentroid=np.transpose(matrixMoveToCentroid) #transposing transform matrix\n",
        "    npCloud=transferXYZ(npCloud,matrixMoveToCentroid)  #translation\n",
        "    print(matrixMoveToCentroid.shape)\n",
        "    print(matrixMoveToCentroid)\n",
        "    return npCloud[:,0:3]\n"
      ],
      "execution_count": null,
      "outputs": []
    },
    {
      "cell_type": "code",
      "metadata": {
        "id": "9Gvtc4H8DjvT"
      },
      "source": [
        "# Normalize the input pt_cloud with respect to the input max_val, max mean of X Y Z to be zero  \n",
        "def norm_data(pt_cloud,zeroMean=True, normalizeFactor=None):\n",
        "    if(zeroMean):\n",
        "        pt_cloud  =zeroMeanCloud(pt_cloud)\n",
        "       \n",
        "    if(normalizeFactor==None):    \n",
        "        max_coord = np.max(np.absolute(pt_cloud))\n",
        "        normalizeFactor=max_coord\n",
        "    return pt_cloud / normalizeFactor\n"
      ],
      "execution_count": null,
      "outputs": []
    },
    {
      "cell_type": "code",
      "metadata": {
        "id": "3RzmGeggm04Z"
      },
      "source": [
        "def rot_xy(pt_cloud, th):\n",
        "  npCloud = np.asarray(pt_cloud)\n",
        "  rmatrix=np.identity(4)\n",
        "  #matrix creation\n",
        "  rmatrix[0][0]=math.cos(th)\n",
        "  rmatrix[0][1]=math.sin(th)\n",
        "  rmatrix[1][0]=-math.sin(th)\n",
        "  rmatrix[1][1]=math.cos(th)\n",
        "  rmatrix=np.transpose(rmatrix)\n",
        "  npCloud=transferXYZ(pt_cloud,rmatrix)\n",
        "  return npCloud[:,0:3]\n"
      ],
      "execution_count": null,
      "outputs": []
    },
    {
      "cell_type": "code",
      "metadata": {
        "id": "jr0RA5aRm1Bs"
      },
      "source": [
        "def rot_yz(pt_cloud, th):\n",
        "  npCloud = np.asarray(pt_cloud)\n",
        "  rmatrix=np.identity(4)\n",
        "  #matrix creation\n",
        "  rmatrix[1][1]=math.cos(th)\n",
        "  rmatrix[1][2]=math.sin(th)\n",
        "  rmatrix[2][1]=-math.sin(th)\n",
        "  rmatrix[2][2]=math.cos(th)\n",
        "  rmatrix=np.transpose(rmatrix)\n",
        "  npCloud=transferXYZ(pt_cloud,rmatrix)\n",
        "  return npCloud[:,0:3]\n"
      ],
      "execution_count": null,
      "outputs": []
    },
    {
      "cell_type": "code",
      "metadata": {
        "id": "shBtxrOAm1Ln"
      },
      "source": [
        "def rot_zx(pt_cloud, th):\n",
        "  npCloud = np.asarray(pt_cloud)\n",
        "  rmatrix=np.identity(4)\n",
        "  #matrix creation\n",
        "  rmatrix[0][0]=math.cos(th)\n",
        "  rmatrix[0][2]=-math.sin(th)\n",
        "  rmatrix[2][0]=math.sin(th)\n",
        "  rmatrix[2][2]=math.cos(th)\n",
        "  rmatrix=np.transpose(rmatrix)\n",
        "  npCloud=transferXYZ(pt_cloud,rmatrix)\n",
        "  return npCloud[:,0:3]\n"
      ],
      "execution_count": null,
      "outputs": []
    },
    {
      "cell_type": "code",
      "metadata": {
        "id": "61U3O1v9c_V-"
      },
      "source": [
        "def rot(pt_cloud, th):\n",
        "  npCloud = np.asarray(pt_cloud)\n",
        "  ''' uncomment the next 3 lines \n",
        "  based on which rotations are needed '''\n",
        "  npCloud=rot_xy(pt_cloud, th)\n",
        "  #npCloud=rot_yz(pt_cloud, th)\n",
        "  #npCloud=rot_zx(pt_cloud, th)\n",
        "  return npCloud[:,0:3]\n"
      ],
      "execution_count": null,
      "outputs": []
    },
    {
      "cell_type": "code",
      "metadata": {
        "id": "yEOYWyraDjyg"
      },
      "source": [
        "def main():\n",
        "    file_data_path=\"/content/Mesh - Cloud_s4_1024.ply\" #path of input file\n",
        "    file_save_path=\"/content/Mesh - Cloud_s4_1024.ply\" #path to save file\n",
        "    point_cloud= np.loadtxt(file_data_path, skiprows=0, max_rows=1000000)\n",
        "    point_cloud=point_cloud[:,:3]\n",
        "    st=np.ones(point_cloud.shape[0])\n",
        "    point_cloud=np.insert(point_cloud,3,st,axis=1) #inserting a unit vector to match transform matrix order of 4\n",
        "    out = norm_data(point_cloud) #centered matrix of vertices\n",
        "    #print(out)\n",
        "    out=np.insert(out,3,st,axis=1)\n",
        "    out = rot(out,math.pi/12) # change angle of rotation as required\n",
        "    np.savetxt(file_save_path, out, delimiter=' ') \n"
      ],
      "execution_count": null,
      "outputs": []
    },
    {
      "cell_type": "code",
      "metadata": {
        "id": "7ZbEZKorDj1f",
        "colab": {
          "base_uri": "https://localhost:8080/"
        },
        "outputId": "a84319a3-3fa9-4c1d-b15f-82e0157b0913"
      },
      "source": [
        "if __name__==\"__main__\":\n",
        "    main()"
      ],
      "execution_count": null,
      "outputs": [
        {
          "output_type": "stream",
          "name": "stdout",
          "text": [
            "(4, 4)\n",
            "[[ 1.          0.          0.          0.        ]\n",
            " [ 0.          1.          0.          0.        ]\n",
            " [ 0.          0.          1.          0.        ]\n",
            " [ 0.00933436  0.02240296 -0.01495337  1.        ]]\n"
          ]
        }
      ]
    },
    {
      "cell_type": "markdown",
      "metadata": {
        "id": "fNBbQUMehEbb"
      },
      "source": [
        "Formatting the Input files"
      ]
    },
    {
      "cell_type": "code",
      "metadata": {
        "id": "CzGyaTKpp-st",
        "colab": {
          "base_uri": "https://localhost:8080/"
        },
        "outputId": "f80decb4-6b72-4eec-aa0e-5181950a9316"
      },
      "source": [
        "from io import StringIO\n",
        "import os\n",
        "  \n",
        "cnt = 0\n",
        "arr = []\n",
        "\n",
        "fp =open('/content/ivan_hololens (copy).ply','r') #path of input file\n",
        "lines = fp.readlines()\n",
        "n = len(lines)\n",
        "for i in range(0,len(lines)):\n",
        "    lines[i] = lines[i].strip() #splitting data about spaces\n",
        "    if(len(lines[i]) != 0):\n",
        "        '''\n",
        "        uncomment the lines based on requirement\n",
        "        '''\n",
        "        #if(lines[i][0] == 'v' and lines[i][1] == ' '): #to extract only vertices\n",
        "        cnt += 1\n",
        "        temp = lines[i].split()\n",
        "        arr.append('v '+temp[0]+\" \"+temp[1]+\" \"+temp[2]+\" 0 0 1\\n\") #format the vertices (add v and r g b)\n",
        "        #arr.append('v '+lines[i]+\"\\n\") #format the vertices (add v)\n",
        "        #arr.append(temp[1] + temp[2] + temp[3] +\"\\n\") #remove formatting\n",
        "\n",
        "print(cnt) #no. of vertices\n",
        "f=open('/content/check.obj','w') #path to save file\n",
        "\n",
        "f.writelines(arr) #save edited file\n",
        "f.close()"
      ],
      "execution_count": null,
      "outputs": [
        {
          "output_type": "stream",
          "name": "stdout",
          "text": [
            "1024\n"
          ]
        }
      ]
    },
    {
      "cell_type": "markdown",
      "metadata": {
        "id": "CsN7JDcah7ps"
      },
      "source": [
        "Calculating scale (0.5)"
      ]
    },
    {
      "cell_type": "code",
      "metadata": {
        "colab": {
          "base_uri": "https://localhost:8080/"
        },
        "id": "sZ-kYdT1eD66",
        "outputId": "22d6cef8-08b0-4244-89d6-a5a4db4d26d0"
      },
      "source": [
        "point_cloud"
      ],
      "execution_count": null,
      "outputs": [
        {
          "output_type": "execute_result",
          "data": {
            "text/plain": [
              "array([[ 0.02984901,  0.07231356, -0.2790082 ],\n",
              "       [-0.38701633,  0.1887392 , -0.44213783],\n",
              "       [-0.54322872,  0.18517718, -0.51581148],\n",
              "       ...,\n",
              "       [ 0.19348274,  0.15864314, -0.02721171],\n",
              "       [ 0.10983774,  0.04132953, -0.55521539],\n",
              "       [ 0.27953684,  0.15894457, -0.00895462]])"
            ]
          },
          "metadata": {},
          "execution_count": 111
        }
      ]
    },
    {
      "cell_type": "code",
      "metadata": {
        "id": "s8h1o2uHeEEC"
      },
      "source": [
        "maxim=0\n",
        "pos=[]\n",
        "for i in point_cloud:\n",
        "  dx=math.sqrt((i[0]*i[0])+(i[1]*i[1])+(i[2]*i[2]))\n",
        "  if(dx>maxim):\n",
        "    maxim=dx\n",
        "    pos=i"
      ],
      "execution_count": null,
      "outputs": []
    },
    {
      "cell_type": "code",
      "metadata": {
        "colab": {
          "base_uri": "https://localhost:8080/"
        },
        "id": "Gh-oN5BIfPPO",
        "outputId": "cae42586-97b6-418e-8d27-1394969e875f"
      },
      "source": [
        "scale = maxim/0.5"
      ],
      "execution_count": null,
      "outputs": [
        {
          "output_type": "execute_result",
          "data": {
            "text/plain": [
              "array([ 0.322081, -0.28363 , -0.25655 ])"
            ]
          },
          "metadata": {},
          "execution_count": 39
        }
      ]
    }
  ]
}